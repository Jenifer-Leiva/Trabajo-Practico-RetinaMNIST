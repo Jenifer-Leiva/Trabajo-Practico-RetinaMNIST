{
  "cells": [
    {
      "cell_type": "markdown",
      "metadata": {
        "id": "tATe7h4EzWLW"
      },
      "source": [
        "UNIVERSIDAD MILITAR NUEVA GRANADA\n",
        "\n",
        "PERCEPTRON MULTICAPA\n",
        "\n",
        "Jenifer Leiva  \n",
        "Astrid Melo\n"
      ]
    },
    {
      "cell_type": "code",
      "execution_count": 1,
      "metadata": {
        "id": "mmwGM0Sly6Fz"
      },
      "outputs": [],
      "source": [
        "# Carga de librerías\n",
        "import numpy as np\n",
        "import random\n",
        "import tensorflow as tf\n",
        "import matplotlib.pyplot as plt"
      ]
    },
    {
      "cell_type": "code",
      "execution_count": 2,
      "metadata": {
        "id": "CyfZ3ONZzjDs"
      },
      "outputs": [],
      "source": [
        "# Carga de módulos\n",
        "from tensorflow.keras.models import Sequential\n",
        "from tensorflow.keras.layers import Flatten, Dense\n",
        "from tensorflow.keras.utils import to_categorical"
      ]
    },
    {
      "cell_type": "markdown",
      "metadata": {
        "id": "_PpZ8mIrzmjt"
      },
      "source": [
        "**Dataset**\n",
        "MedMNIST dataset\n",
        "RetinaMNIST\n",
        "\n",
        "1600 imágenes\n",
        "\n",
        "Imágenes 28x28 (Tomografía macular de la retina)\n",
        "\n",
        "Labels: 4\n",
        "\n",
        " (train & test por separado)"
      ]
    },
    {
      "cell_type": "code",
      "execution_count": 3,
      "metadata": {
        "colab": {
          "base_uri": "https://localhost:8080/"
        },
        "collapsed": true,
        "id": "f2d2307d",
        "outputId": "6d016d58-c3a9-4896-84ee-42f14e1828d2"
      },
      "outputs": [
        {
          "output_type": "stream",
          "name": "stdout",
          "text": [
            "Requirement already satisfied: medmnist in /usr/local/lib/python3.12/dist-packages (3.0.2)\n",
            "Requirement already satisfied: numpy in /usr/local/lib/python3.12/dist-packages (from medmnist) (2.0.2)\n",
            "Requirement already satisfied: pandas in /usr/local/lib/python3.12/dist-packages (from medmnist) (2.2.2)\n",
            "Requirement already satisfied: scikit-learn in /usr/local/lib/python3.12/dist-packages (from medmnist) (1.6.1)\n",
            "Requirement already satisfied: scikit-image in /usr/local/lib/python3.12/dist-packages (from medmnist) (0.25.2)\n",
            "Requirement already satisfied: tqdm in /usr/local/lib/python3.12/dist-packages (from medmnist) (4.67.1)\n",
            "Requirement already satisfied: Pillow in /usr/local/lib/python3.12/dist-packages (from medmnist) (11.3.0)\n",
            "Requirement already satisfied: fire in /usr/local/lib/python3.12/dist-packages (from medmnist) (0.7.1)\n",
            "Requirement already satisfied: torch in /usr/local/lib/python3.12/dist-packages (from medmnist) (2.8.0+cu126)\n",
            "Requirement already satisfied: torchvision in /usr/local/lib/python3.12/dist-packages (from medmnist) (0.23.0+cu126)\n",
            "Requirement already satisfied: termcolor in /usr/local/lib/python3.12/dist-packages (from fire->medmnist) (3.1.0)\n",
            "Requirement already satisfied: python-dateutil>=2.8.2 in /usr/local/lib/python3.12/dist-packages (from pandas->medmnist) (2.9.0.post0)\n",
            "Requirement already satisfied: pytz>=2020.1 in /usr/local/lib/python3.12/dist-packages (from pandas->medmnist) (2025.2)\n",
            "Requirement already satisfied: tzdata>=2022.7 in /usr/local/lib/python3.12/dist-packages (from pandas->medmnist) (2025.2)\n",
            "Requirement already satisfied: scipy>=1.11.4 in /usr/local/lib/python3.12/dist-packages (from scikit-image->medmnist) (1.16.1)\n",
            "Requirement already satisfied: networkx>=3.0 in /usr/local/lib/python3.12/dist-packages (from scikit-image->medmnist) (3.5)\n",
            "Requirement already satisfied: imageio!=2.35.0,>=2.33 in /usr/local/lib/python3.12/dist-packages (from scikit-image->medmnist) (2.37.0)\n",
            "Requirement already satisfied: tifffile>=2022.8.12 in /usr/local/lib/python3.12/dist-packages (from scikit-image->medmnist) (2025.6.11)\n",
            "Requirement already satisfied: packaging>=21 in /usr/local/lib/python3.12/dist-packages (from scikit-image->medmnist) (25.0)\n",
            "Requirement already satisfied: lazy-loader>=0.4 in /usr/local/lib/python3.12/dist-packages (from scikit-image->medmnist) (0.4)\n",
            "Requirement already satisfied: joblib>=1.2.0 in /usr/local/lib/python3.12/dist-packages (from scikit-learn->medmnist) (1.5.1)\n",
            "Requirement already satisfied: threadpoolctl>=3.1.0 in /usr/local/lib/python3.12/dist-packages (from scikit-learn->medmnist) (3.6.0)\n",
            "Requirement already satisfied: filelock in /usr/local/lib/python3.12/dist-packages (from torch->medmnist) (3.19.1)\n",
            "Requirement already satisfied: typing-extensions>=4.10.0 in /usr/local/lib/python3.12/dist-packages (from torch->medmnist) (4.14.1)\n",
            "Requirement already satisfied: setuptools in /usr/local/lib/python3.12/dist-packages (from torch->medmnist) (75.2.0)\n",
            "Requirement already satisfied: sympy>=1.13.3 in /usr/local/lib/python3.12/dist-packages (from torch->medmnist) (1.13.3)\n",
            "Requirement already satisfied: jinja2 in /usr/local/lib/python3.12/dist-packages (from torch->medmnist) (3.1.6)\n",
            "Requirement already satisfied: fsspec in /usr/local/lib/python3.12/dist-packages (from torch->medmnist) (2025.3.0)\n",
            "Requirement already satisfied: nvidia-cuda-nvrtc-cu12==12.6.77 in /usr/local/lib/python3.12/dist-packages (from torch->medmnist) (12.6.77)\n",
            "Requirement already satisfied: nvidia-cuda-runtime-cu12==12.6.77 in /usr/local/lib/python3.12/dist-packages (from torch->medmnist) (12.6.77)\n",
            "Requirement already satisfied: nvidia-cuda-cupti-cu12==12.6.80 in /usr/local/lib/python3.12/dist-packages (from torch->medmnist) (12.6.80)\n",
            "Requirement already satisfied: nvidia-cudnn-cu12==9.10.2.21 in /usr/local/lib/python3.12/dist-packages (from torch->medmnist) (9.10.2.21)\n",
            "Requirement already satisfied: nvidia-cublas-cu12==12.6.4.1 in /usr/local/lib/python3.12/dist-packages (from torch->medmnist) (12.6.4.1)\n",
            "Requirement already satisfied: nvidia-cufft-cu12==11.3.0.4 in /usr/local/lib/python3.12/dist-packages (from torch->medmnist) (11.3.0.4)\n",
            "Requirement already satisfied: nvidia-curand-cu12==10.3.7.77 in /usr/local/lib/python3.12/dist-packages (from torch->medmnist) (10.3.7.77)\n",
            "Requirement already satisfied: nvidia-cusolver-cu12==11.7.1.2 in /usr/local/lib/python3.12/dist-packages (from torch->medmnist) (11.7.1.2)\n",
            "Requirement already satisfied: nvidia-cusparse-cu12==12.5.4.2 in /usr/local/lib/python3.12/dist-packages (from torch->medmnist) (12.5.4.2)\n",
            "Requirement already satisfied: nvidia-cusparselt-cu12==0.7.1 in /usr/local/lib/python3.12/dist-packages (from torch->medmnist) (0.7.1)\n",
            "Requirement already satisfied: nvidia-nccl-cu12==2.27.3 in /usr/local/lib/python3.12/dist-packages (from torch->medmnist) (2.27.3)\n",
            "Requirement already satisfied: nvidia-nvtx-cu12==12.6.77 in /usr/local/lib/python3.12/dist-packages (from torch->medmnist) (12.6.77)\n",
            "Requirement already satisfied: nvidia-nvjitlink-cu12==12.6.85 in /usr/local/lib/python3.12/dist-packages (from torch->medmnist) (12.6.85)\n",
            "Requirement already satisfied: nvidia-cufile-cu12==1.11.1.6 in /usr/local/lib/python3.12/dist-packages (from torch->medmnist) (1.11.1.6)\n",
            "Requirement already satisfied: triton==3.4.0 in /usr/local/lib/python3.12/dist-packages (from torch->medmnist) (3.4.0)\n",
            "Requirement already satisfied: six>=1.5 in /usr/local/lib/python3.12/dist-packages (from python-dateutil>=2.8.2->pandas->medmnist) (1.17.0)\n",
            "Requirement already satisfied: mpmath<1.4,>=1.1.0 in /usr/local/lib/python3.12/dist-packages (from sympy>=1.13.3->torch->medmnist) (1.3.0)\n",
            "Requirement already satisfied: MarkupSafe>=2.0 in /usr/local/lib/python3.12/dist-packages (from jinja2->torch->medmnist) (3.0.2)\n"
          ]
        }
      ],
      "source": [
        "!pip install medmnist"
      ]
    },
    {
      "cell_type": "code",
      "execution_count": 4,
      "metadata": {
        "colab": {
          "base_uri": "https://localhost:8080/"
        },
        "collapsed": true,
        "id": "bb93e32f",
        "outputId": "b76348c6-7db2-4d7e-dd45-500d024e08c8"
      },
      "outputs": [
        {
          "output_type": "stream",
          "name": "stdout",
          "text": [
            "Requirement already satisfied: keras_tuner in /usr/local/lib/python3.12/dist-packages (1.4.7)\n",
            "Requirement already satisfied: keras in /usr/local/lib/python3.12/dist-packages (from keras_tuner) (3.10.0)\n",
            "Requirement already satisfied: packaging in /usr/local/lib/python3.12/dist-packages (from keras_tuner) (25.0)\n",
            "Requirement already satisfied: requests in /usr/local/lib/python3.12/dist-packages (from keras_tuner) (2.32.4)\n",
            "Requirement already satisfied: kt-legacy in /usr/local/lib/python3.12/dist-packages (from keras_tuner) (1.0.5)\n",
            "Requirement already satisfied: absl-py in /usr/local/lib/python3.12/dist-packages (from keras->keras_tuner) (1.4.0)\n",
            "Requirement already satisfied: numpy in /usr/local/lib/python3.12/dist-packages (from keras->keras_tuner) (2.0.2)\n",
            "Requirement already satisfied: rich in /usr/local/lib/python3.12/dist-packages (from keras->keras_tuner) (13.9.4)\n",
            "Requirement already satisfied: namex in /usr/local/lib/python3.12/dist-packages (from keras->keras_tuner) (0.1.0)\n",
            "Requirement already satisfied: h5py in /usr/local/lib/python3.12/dist-packages (from keras->keras_tuner) (3.14.0)\n",
            "Requirement already satisfied: optree in /usr/local/lib/python3.12/dist-packages (from keras->keras_tuner) (0.17.0)\n",
            "Requirement already satisfied: ml-dtypes in /usr/local/lib/python3.12/dist-packages (from keras->keras_tuner) (0.5.3)\n",
            "Requirement already satisfied: charset_normalizer<4,>=2 in /usr/local/lib/python3.12/dist-packages (from requests->keras_tuner) (3.4.3)\n",
            "Requirement already satisfied: idna<4,>=2.5 in /usr/local/lib/python3.12/dist-packages (from requests->keras_tuner) (3.10)\n",
            "Requirement already satisfied: urllib3<3,>=1.21.1 in /usr/local/lib/python3.12/dist-packages (from requests->keras_tuner) (2.5.0)\n",
            "Requirement already satisfied: certifi>=2017.4.17 in /usr/local/lib/python3.12/dist-packages (from requests->keras_tuner) (2025.8.3)\n",
            "Requirement already satisfied: typing-extensions>=4.6.0 in /usr/local/lib/python3.12/dist-packages (from optree->keras->keras_tuner) (4.14.1)\n",
            "Requirement already satisfied: markdown-it-py>=2.2.0 in /usr/local/lib/python3.12/dist-packages (from rich->keras->keras_tuner) (4.0.0)\n",
            "Requirement already satisfied: pygments<3.0.0,>=2.13.0 in /usr/local/lib/python3.12/dist-packages (from rich->keras->keras_tuner) (2.19.2)\n",
            "Requirement already satisfied: mdurl~=0.1 in /usr/local/lib/python3.12/dist-packages (from markdown-it-py>=2.2.0->rich->keras->keras_tuner) (0.1.2)\n"
          ]
        }
      ],
      "source": [
        "!pip install keras_tuner"
      ]
    },
    {
      "cell_type": "code",
      "execution_count": 5,
      "metadata": {
        "id": "lOzXXRw50dQ-"
      },
      "outputs": [],
      "source": [
        "# Carga de módulos\n",
        "from medmnist import RetinaMNIST"
      ]
    },
    {
      "cell_type": "code",
      "execution_count": 6,
      "metadata": {
        "id": "myZh3H-B1V1M"
      },
      "outputs": [],
      "source": [
        "# Cargar train y test\n",
        "train_dataset = RetinaMNIST(split=\"train\", download=True)\n",
        "val_dataset   = RetinaMNIST(split=\"val\", download=True)\n",
        "test_dataset = RetinaMNIST(split=\"test\", download=True)\n",
        "\n",
        "# Convertir a arrays\n",
        "x_train = np.array([img for img, _ in train_dataset])\n",
        "y_train = np.array([label for _, label in train_dataset])\n",
        "\n",
        "x_val = np.array([img for img, _ in val_dataset])\n",
        "y_val = np.array([label for _, label in val_dataset])\n",
        "\n",
        "x_test = np.array([img for img, _ in test_dataset])\n",
        "y_test = np.array([label for _, label in test_dataset])"
      ]
    },
    {
      "cell_type": "code",
      "execution_count": 7,
      "metadata": {
        "id": "xWClg9dC4p2Y"
      },
      "outputs": [],
      "source": [
        "#Reshape a un tensor de 4 dimensiones: batch size, width, height, color channels\n",
        "\n",
        "x_train = x_train.reshape( (x_train.shape[0], 28, 28, 3))"
      ]
    },
    {
      "cell_type": "code",
      "execution_count": 8,
      "metadata": {
        "id": "KoIAqOxA5Jlm"
      },
      "outputs": [],
      "source": [
        "# Normalizar\n",
        "x_train = x_train.astype('float32') / 255.0"
      ]
    },
    {
      "cell_type": "code",
      "execution_count": 9,
      "metadata": {
        "colab": {
          "base_uri": "https://localhost:8080/"
        },
        "id": "gKXkKVhA5Q3H",
        "outputId": "21fe033e-4f19-48ad-8ed4-1c8dad900648"
      },
      "outputs": [
        {
          "output_type": "execute_result",
          "data": {
            "text/plain": [
              "array([[0],\n",
              "       [0],\n",
              "       [0],\n",
              "       ...,\n",
              "       [2],\n",
              "       [2],\n",
              "       [3]])"
            ]
          },
          "metadata": {},
          "execution_count": 9
        }
      ],
      "source": [
        "#Labels\n",
        "y_train"
      ]
    },
    {
      "cell_type": "code",
      "execution_count": 10,
      "metadata": {
        "id": "P3_Whq1R-Iss"
      },
      "outputs": [],
      "source": [
        "# Representación one-hot (categorical)\n",
        "y_train = to_categorical(y_train, num_classes=5)"
      ]
    },
    {
      "cell_type": "markdown",
      "metadata": {
        "id": "vpLKtAtM5-IA"
      },
      "source": [
        "## Hiperparametros"
      ]
    },
    {
      "cell_type": "code",
      "execution_count": 11,
      "metadata": {
        "id": "5XVYzMKG6B_A"
      },
      "outputs": [],
      "source": [
        "from tensorflow import keras\n",
        "import keras_tuner as kt\n",
        "from tensorflow.keras import layers"
      ]
    },
    {
      "cell_type": "code",
      "execution_count": 12,
      "metadata": {
        "id": "97a2a74b"
      },
      "outputs": [],
      "source": [
        "# Normalize x_test\n",
        "x_val = x_val.astype('float32') / 255.0"
      ]
    },
    {
      "cell_type": "code",
      "execution_count": 13,
      "metadata": {
        "id": "b80c624d"
      },
      "outputs": [],
      "source": [
        "#Reshape x_test to a 4-dimensional tensor: batch size, width, height, color channels\n",
        "x_val = x_val.reshape( (x_val.shape[0], 28, 28, 3))"
      ]
    },
    {
      "cell_type": "code",
      "execution_count": 14,
      "metadata": {
        "id": "9474f2d8"
      },
      "outputs": [],
      "source": [
        "y_val = to_categorical(y_val, num_classes=5)"
      ]
    },
    {
      "cell_type": "code",
      "execution_count": 15,
      "metadata": {
        "colab": {
          "base_uri": "https://localhost:8080/"
        },
        "id": "eNwr09e5XMUP",
        "outputId": "86ee62f1-2c2f-45fa-a7e6-af608ee33375"
      },
      "outputs": [
        {
          "output_type": "stream",
          "name": "stdout",
          "text": [
            "Reloading Tuner from keras_tuner_dir/keras_tuner_demo/tuner0.json\n"
          ]
        }
      ],
      "source": [
        "# Definir la función de construcción del modelo\n",
        "#modelo 1\n",
        "def build_model(hp):\n",
        "    model = keras.Sequential()\n",
        "\n",
        "    # Add a Flatten layer to flatten the input images\n",
        "    model.add(layers.Flatten(input_shape=(28, 28, 3)))\n",
        "\n",
        "    # Capa oculta con número de neuronas como hiperparámetro\n",
        "    model.add(layers.Dense(\n",
        "        units=hp.Int('units', min_value=32, max_value=256, step=32),\n",
        "        activation='relu'\n",
        "    ))\n",
        "    model.add(layers.Dense(5, activation='softmax')) # Changed to 5 classes based on unique labels\n",
        "\n",
        "    # Definir optimizador y learning rate como hiperparámetros\n",
        "    optimizer = hp.Choice('optimizer', ['adam', 'sgd', 'rmsprop'])\n",
        "    learning_rate = hp.Choice('learning_rate', [1e-2, 1e-3, 1e-4])\n",
        "\n",
        "    if optimizer == 'adam':\n",
        "        optimizer = keras.optimizers.Adam(learning_rate=learning_rate)\n",
        "    elif optimizer == 'sgd':\n",
        "        optimizer = keras.optimizers.SGD(learning_rate=learning_rate)\n",
        "    else:\n",
        "        optimizer = keras.optimizers.RMSprop(learning_rate=learning_rate)\n",
        "\n",
        "    # Compilar el modelo\n",
        "    model.compile(\n",
        "        optimizer=optimizer,\n",
        "        loss='categorical_crossentropy',\n",
        "        metrics=['accuracy']\n",
        "    )\n",
        "    return model\n",
        "\n",
        "# Definir el tuner\n",
        "tuner = kt.Hyperband(\n",
        "    #construir el modelo d eparametros\n",
        "    hypermodel=build_model,\n",
        "    #optimizar valor de accuracy\n",
        "    objective='val_accuracy',   # Debe ir como string\n",
        "    #numero de epocas\n",
        "    max_epochs=30,\n",
        "    #directorio para guardar resultados hiperparametros\n",
        "    directory=\"keras_tuner_dir\",\n",
        "    project_name=\"keras_tuner_demo\"\n",
        ")\n",
        "\n",
        "epochs=30;\n",
        "batch_size=32;\n",
        "\n",
        "\n",
        "tuner.search(x_train, y_train,\n",
        "             epochs=epochs,\n",
        "             validation_data=(x_val, y_val),\n",
        "            batch_size=batch_size)\n",
        "\n",
        "\n",
        "best_hps = tuner.get_best_hyperparameters(num_trials=1)[0]"
      ]
    },
    {
      "cell_type": "code",
      "source": [
        "# Definir la función de construcción del modelo\n",
        "#modelo 2\n",
        "def build_model2(hp):\n",
        "    model2 = keras.Sequential()\n",
        "\n",
        "    # Add a Flatten layer to flatten the input images\n",
        "    model2.add(layers.Flatten(input_shape=(28, 28, 3)))\n",
        "\n",
        "    # Capa oculta con número de neuronas como hiperparámetro\n",
        "    model2.add(layers.Dense(\n",
        "        units=hp.Int('units', min_value=96, max_value=256, step=32),\n",
        "        activation='relu'\n",
        "    ))\n",
        "    model2.add(layers.Dense(5, activation='softmax')) # Changed to 5 classes based on unique labels\n",
        "\n",
        "    # Definir optimizador y learning rate como hiperparámetros\n",
        "    optimizer = hp.Choice('optimizer', ['adam', 'sgd', 'rmsprop'])\n",
        "    learning_rate = hp.Choice('learning_rate', [1e-2, 1e-3, 1e-4])\n",
        "\n",
        "    if optimizer == 'adam':\n",
        "        optimizer = keras.optimizers.Adam(learning_rate=learning_rate)\n",
        "    elif optimizer == 'sgd':\n",
        "        optimizer = keras.optimizers.SGD(learning_rate=learning_rate)\n",
        "    else:\n",
        "        optimizer = keras.optimizers.RMSprop(learning_rate=learning_rate)\n",
        "\n",
        "    # Compilar el modelo\n",
        "    model2.compile(\n",
        "        optimizer=optimizer,\n",
        "        loss='categorical_crossentropy',\n",
        "        metrics=['accuracy']\n",
        "    )\n",
        "    return model2\n",
        "\n",
        "# Definir el tuner\n",
        "tuner = kt.Hyperband(\n",
        "    #construir el modelo d eparametros\n",
        "    hypermodel=build_model2,\n",
        "    #optimizar valor de accuracy\n",
        "    objective='val_accuracy',   # Debe ir como string\n",
        "    #numero de epocas\n",
        "    max_epochs=30,\n",
        "    #directorio para guardar resultados hiperparametros\n",
        "    directory=\"keras_tuner_dir\",\n",
        "    project_name=\"keras_tuner_demo2\"\n",
        ")\n",
        "\n",
        "epochs=30;\n",
        "batch_size=42;\n",
        "\n",
        "\n",
        "tuner.search(x_train, y_train,\n",
        "             epochs=epochs,\n",
        "             validation_data=(x_val, y_val),\n",
        "            batch_size=batch_size)\n",
        "\n",
        "\n",
        "best_hps = tuner.get_best_hyperparameters(num_trials=1)[0]"
      ],
      "metadata": {
        "colab": {
          "base_uri": "https://localhost:8080/"
        },
        "id": "f5U9pqow9hQg",
        "outputId": "897ff15f-4e96-4b6a-a800-eb4243e7e8f2"
      },
      "execution_count": 16,
      "outputs": [
        {
          "output_type": "stream",
          "name": "stdout",
          "text": [
            "Reloading Tuner from keras_tuner_dir/keras_tuner_demo2/tuner0.json\n"
          ]
        }
      ]
    },
    {
      "cell_type": "code",
      "source": [
        "# Definir la función de construcción del modelo\n",
        "#modelo 3 dropout\n",
        "def build_model3(hp):\n",
        "    model3 = keras.Sequential()\n",
        "\n",
        "    # Add a Flatten layer to flatten the input images\n",
        "    model3.add(layers.Flatten(input_shape=(28, 28, 3)))\n",
        "\n",
        "    model3.add(layers.Dropout(0.5))\n",
        "\n",
        "    # Capa oculta con número de neuronas como hiperparámetro\n",
        "    model3.add(layers.Dense(\n",
        "        units=hp.Int('units', min_value=96, max_value=256, step=32),\n",
        "        activation='relu'\n",
        "    ))\n",
        "    model3.add(layers.Dense(5, activation='softmax')) # Changed to 5 classes based on unique labels\n",
        "\n",
        "    # Definir optimizador y learning rate como hiperparámetros\n",
        "    optimizer = hp.Choice('optimizer', ['adam', 'sgd', 'rmsprop'])\n",
        "    learning_rate = hp.Choice('learning_rate', [1e-2, 1e-3, 1e-4])\n",
        "\n",
        "    if optimizer == 'adam':\n",
        "        optimizer = keras.optimizers.Adam(learning_rate=learning_rate)\n",
        "    elif optimizer == 'sgd':\n",
        "        optimizer = keras.optimizers.SGD(learning_rate=learning_rate)\n",
        "    else:\n",
        "        optimizer = keras.optimizers.RMSprop(learning_rate=learning_rate)\n",
        "\n",
        "    # Compilar el modelo\n",
        "    model3.compile(\n",
        "        optimizer=optimizer,\n",
        "        loss='categorical_crossentropy',\n",
        "        metrics=['accuracy']\n",
        "    )\n",
        "    return model3\n",
        "\n",
        "# Definir el tuner\n",
        "tuner = kt.Hyperband(\n",
        "    #construir el modelo d eparametros\n",
        "    hypermodel=build_model3,\n",
        "    #optimizar valor de accuracy\n",
        "    objective='val_accuracy',   # Debe ir como string\n",
        "    #numero de epocas\n",
        "    max_epochs=30,\n",
        "    #directorio para guardar resultados hiperparametros\n",
        "    directory=\"keras_tuner_dir\",\n",
        "    project_name=\"keras_tuner_demo3\"\n",
        ")\n",
        "\n",
        "epochs=30;\n",
        "batch_size=42;\n",
        "\n",
        "\n",
        "tuner.search(x_train, y_train,\n",
        "             epochs=epochs,\n",
        "             validation_data=(x_val, y_val),\n",
        "            batch_size=batch_size)\n",
        "\n",
        "\n",
        "best_hps = tuner.get_best_hyperparameters(num_trials=1)[0]"
      ],
      "metadata": {
        "id": "xL2iur2p_r8Z",
        "colab": {
          "base_uri": "https://localhost:8080/"
        },
        "outputId": "9868d76e-3ed4-4e7b-a84d-3a5b53083d1b"
      },
      "execution_count": 17,
      "outputs": [
        {
          "output_type": "stream",
          "name": "stdout",
          "text": [
            "Reloading Tuner from keras_tuner_dir/keras_tuner_demo3/tuner0.json\n"
          ]
        }
      ]
    },
    {
      "cell_type": "code",
      "source": [
        "# Definir la función de construcción del modelo\n",
        "#modelo 4 weight decay\n",
        "weight_decay = 0.001;\n",
        "def build_model4(hp):\n",
        "    model4 = keras.Sequential()\n",
        "\n",
        "    # Add a Flatten layer to flatten the input images\n",
        "    model4.add(layers.Flatten(input_shape=(28, 28, 3)))\n",
        "    # Capa oculta con número de neuronas como hiperparámetro\n",
        "    model4.add(layers.Dense(\n",
        "        units=hp.Int('units', min_value=96, max_value=256, step=32),\n",
        "        activation='relu',\n",
        "        kernel_regularizer=tf.keras.regularizers.l2(weight_decay)\n",
        "    ))\n",
        "\n",
        "    model4.add(layers.Dense(\n",
        "        units=64,\n",
        "        activation='sigmoid',\n",
        "        kernel_regularizer=tf.keras.regularizers.l2(weight_decay)\n",
        "    ))\n",
        "\n",
        "    model4.add(layers.Dense(5, activation='softmax')) # Changed to 5 classes based on unique labels\n",
        "\n",
        "    # Definir optimizador y learning rate como hiperparámetros\n",
        "    optimizer = hp.Choice('optimizer', ['adam', 'sgd', 'rmsprop'])\n",
        "    learning_rate = hp.Choice('learning_rate', [1e-2, 1e-3, 1e-4])\n",
        "\n",
        "    if optimizer == 'adam':\n",
        "        optimizer = keras.optimizers.Adam(learning_rate=learning_rate)\n",
        "    elif optimizer == 'sgd':\n",
        "        optimizer = keras.optimizers.SGD(learning_rate=learning_rate)\n",
        "    else:\n",
        "        optimizer = keras.optimizers.RMSprop(learning_rate=learning_rate)\n",
        "\n",
        "    # Compilar el modelo\n",
        "    model4.compile(\n",
        "        optimizer=optimizer,\n",
        "        loss='categorical_crossentropy',\n",
        "        metrics=['accuracy']\n",
        "    )\n",
        "    return model4\n",
        "\n",
        "# Definir el tuner\n",
        "tuner = kt.Hyperband(\n",
        "    #construir el modelo d eparametros\n",
        "    hypermodel=build_model4,\n",
        "    #optimizar valor de accuracy\n",
        "    objective='val_accuracy',   # Debe ir como string\n",
        "    #numero de epocas\n",
        "    max_epochs=30,\n",
        "    #directorio para guardar resultados hiperparametros\n",
        "    directory=\"keras_tuner_dir\",\n",
        "    project_name=\"keras_tuner_demo4\"\n",
        ")\n",
        "\n",
        "epochs=30;\n",
        "batch_size=42;\n",
        "\n",
        "\n",
        "tuner.search(x_train, y_train,\n",
        "             epochs=epochs,\n",
        "             validation_data=(x_val, y_val),\n",
        "            batch_size=batch_size)\n",
        "\n",
        "\n",
        "best_hps = tuner.get_best_hyperparameters(num_trials=1)[0]"
      ],
      "metadata": {
        "id": "PMqaWxp3AL7a",
        "colab": {
          "base_uri": "https://localhost:8080/"
        },
        "outputId": "d314f34e-b836-4510-a4c1-92861da172be"
      },
      "execution_count": 18,
      "outputs": [
        {
          "output_type": "stream",
          "name": "stdout",
          "text": [
            "Reloading Tuner from keras_tuner_dir/keras_tuner_demo4/tuner0.json\n"
          ]
        }
      ]
    },
    {
      "cell_type": "code",
      "metadata": {
        "id": "62ad2fa2",
        "colab": {
          "base_uri": "https://localhost:8080/"
        },
        "outputId": "c9a13ef9-53d5-43b0-e318-ff15b3660589"
      },
      "source": [
        "#Imprimir Hiperparámetros seleccionados\n",
        "\n",
        "print(best_hps.values)"
      ],
      "execution_count": 19,
      "outputs": [
        {
          "output_type": "stream",
          "name": "stdout",
          "text": [
            "{'units': 256, 'optimizer': 'adam', 'learning_rate': 0.001, 'tuner/epochs': 10, 'tuner/initial_epoch': 4, 'tuner/bracket': 2, 'tuner/round': 1, 'tuner/trial_id': '0066'}\n"
          ]
        }
      ]
    },
    {
      "cell_type": "markdown",
      "source": [
        "# Entrenamiento"
      ],
      "metadata": {
        "id": "BSuHbqW46cCn"
      }
    },
    {
      "cell_type": "code",
      "source": [
        "# Construir el modelo con los mejores hiperparámetros\n",
        "model = build_model4(best_hps)\n",
        "\n",
        "# Convert y_test to one-hot encoding\n",
        "y_test = to_categorical(y_test, num_classes=5)\n",
        "\n",
        "# Entrenar el modelo\n",
        "history = model.fit(\n",
        "    x_train,\n",
        "    y_train,\n",
        "    epochs=epochs,\n",
        "    batch_size=batch_size,\n",
        "    validation_data=(x_val, y_val)\n",
        ")"
      ],
      "metadata": {
        "id": "xNbAmz6uvbjQ",
        "colab": {
          "base_uri": "https://localhost:8080/"
        },
        "outputId": "4dec7abc-7060-4508-fb02-97b1bfc38dbf"
      },
      "execution_count": 20,
      "outputs": [
        {
          "output_type": "stream",
          "name": "stderr",
          "text": [
            "/usr/local/lib/python3.12/dist-packages/keras/src/layers/reshaping/flatten.py:37: UserWarning: Do not pass an `input_shape`/`input_dim` argument to a layer. When using Sequential models, prefer using an `Input(shape)` object as the first layer in the model instead.\n",
            "  super().__init__(**kwargs)\n"
          ]
        },
        {
          "output_type": "stream",
          "name": "stdout",
          "text": [
            "Epoch 1/30\n",
            "\u001b[1m26/26\u001b[0m \u001b[32m━━━━━━━━━━━━━━━━━━━━\u001b[0m\u001b[37m\u001b[0m \u001b[1m5s\u001b[0m 59ms/step - accuracy: 0.4060 - loss: 1.9518 - val_accuracy: 0.4417 - val_loss: 1.6284\n",
            "Epoch 2/30\n",
            "\u001b[1m26/26\u001b[0m \u001b[32m━━━━━━━━━━━━━━━━━━━━\u001b[0m\u001b[37m\u001b[0m \u001b[1m1s\u001b[0m 32ms/step - accuracy: 0.4783 - loss: 1.5720 - val_accuracy: 0.4500 - val_loss: 1.4809\n",
            "Epoch 3/30\n",
            "\u001b[1m26/26\u001b[0m \u001b[32m━━━━━━━━━━━━━━━━━━━━\u001b[0m\u001b[37m\u001b[0m \u001b[1m1s\u001b[0m 28ms/step - accuracy: 0.4792 - loss: 1.5026 - val_accuracy: 0.4417 - val_loss: 1.4003\n",
            "Epoch 4/30\n",
            "\u001b[1m26/26\u001b[0m \u001b[32m━━━━━━━━━━━━━━━━━━━━\u001b[0m\u001b[37m\u001b[0m \u001b[1m1s\u001b[0m 30ms/step - accuracy: 0.4754 - loss: 1.4540 - val_accuracy: 0.4667 - val_loss: 1.3218\n",
            "Epoch 5/30\n",
            "\u001b[1m26/26\u001b[0m \u001b[32m━━━━━━━━━━━━━━━━━━━━\u001b[0m\u001b[37m\u001b[0m \u001b[1m1s\u001b[0m 26ms/step - accuracy: 0.4756 - loss: 1.4279 - val_accuracy: 0.4417 - val_loss: 1.3099\n",
            "Epoch 6/30\n",
            "\u001b[1m26/26\u001b[0m \u001b[32m━━━━━━━━━━━━━━━━━━━━\u001b[0m\u001b[37m\u001b[0m \u001b[1m1s\u001b[0m 30ms/step - accuracy: 0.5068 - loss: 1.3300 - val_accuracy: 0.4417 - val_loss: 1.2790\n",
            "Epoch 7/30\n",
            "\u001b[1m26/26\u001b[0m \u001b[32m━━━━━━━━━━━━━━━━━━━━\u001b[0m\u001b[37m\u001b[0m \u001b[1m1s\u001b[0m 19ms/step - accuracy: 0.5113 - loss: 1.2933 - val_accuracy: 0.4417 - val_loss: 1.2405\n",
            "Epoch 8/30\n",
            "\u001b[1m26/26\u001b[0m \u001b[32m━━━━━━━━━━━━━━━━━━━━\u001b[0m\u001b[37m\u001b[0m \u001b[1m0s\u001b[0m 13ms/step - accuracy: 0.4917 - loss: 1.3057 - val_accuracy: 0.5583 - val_loss: 1.2048\n",
            "Epoch 9/30\n",
            "\u001b[1m26/26\u001b[0m \u001b[32m━━━━━━━━━━━━━━━━━━━━\u001b[0m\u001b[37m\u001b[0m \u001b[1m1s\u001b[0m 14ms/step - accuracy: 0.5175 - loss: 1.2661 - val_accuracy: 0.4417 - val_loss: 1.2697\n",
            "Epoch 10/30\n",
            "\u001b[1m26/26\u001b[0m \u001b[32m━━━━━━━━━━━━━━━━━━━━\u001b[0m\u001b[37m\u001b[0m \u001b[1m0s\u001b[0m 14ms/step - accuracy: 0.5206 - loss: 1.2630 - val_accuracy: 0.5417 - val_loss: 1.2089\n",
            "Epoch 11/30\n",
            "\u001b[1m26/26\u001b[0m \u001b[32m━━━━━━━━━━━━━━━━━━━━\u001b[0m\u001b[37m\u001b[0m \u001b[1m1s\u001b[0m 13ms/step - accuracy: 0.5391 - loss: 1.2666 - val_accuracy: 0.5000 - val_loss: 1.2618\n",
            "Epoch 12/30\n",
            "\u001b[1m26/26\u001b[0m \u001b[32m━━━━━━━━━━━━━━━━━━━━\u001b[0m\u001b[37m\u001b[0m \u001b[1m1s\u001b[0m 13ms/step - accuracy: 0.5234 - loss: 1.2630 - val_accuracy: 0.4833 - val_loss: 1.1782\n",
            "Epoch 13/30\n",
            "\u001b[1m26/26\u001b[0m \u001b[32m━━━━━━━━━━━━━━━━━━━━\u001b[0m\u001b[37m\u001b[0m \u001b[1m1s\u001b[0m 13ms/step - accuracy: 0.5159 - loss: 1.2374 - val_accuracy: 0.5333 - val_loss: 1.1909\n",
            "Epoch 14/30\n",
            "\u001b[1m26/26\u001b[0m \u001b[32m━━━━━━━━━━━━━━━━━━━━\u001b[0m\u001b[37m\u001b[0m \u001b[1m1s\u001b[0m 20ms/step - accuracy: 0.5280 - loss: 1.2341 - val_accuracy: 0.5333 - val_loss: 1.1848\n",
            "Epoch 15/30\n",
            "\u001b[1m26/26\u001b[0m \u001b[32m━━━━━━━━━━━━━━━━━━━━\u001b[0m\u001b[37m\u001b[0m \u001b[1m1s\u001b[0m 20ms/step - accuracy: 0.5446 - loss: 1.2365 - val_accuracy: 0.4833 - val_loss: 1.1724\n",
            "Epoch 16/30\n",
            "\u001b[1m26/26\u001b[0m \u001b[32m━━━━━━━━━━━━━━━━━━━━\u001b[0m\u001b[37m\u001b[0m \u001b[1m1s\u001b[0m 21ms/step - accuracy: 0.5098 - loss: 1.2192 - val_accuracy: 0.5417 - val_loss: 1.1621\n",
            "Epoch 17/30\n",
            "\u001b[1m26/26\u001b[0m \u001b[32m━━━━━━━━━━━━━━━━━━━━\u001b[0m\u001b[37m\u001b[0m \u001b[1m1s\u001b[0m 21ms/step - accuracy: 0.5378 - loss: 1.2159 - val_accuracy: 0.5500 - val_loss: 1.1709\n",
            "Epoch 18/30\n",
            "\u001b[1m26/26\u001b[0m \u001b[32m━━━━━━━━━━━━━━━━━━━━\u001b[0m\u001b[37m\u001b[0m \u001b[1m1s\u001b[0m 20ms/step - accuracy: 0.5479 - loss: 1.1989 - val_accuracy: 0.4833 - val_loss: 1.2096\n",
            "Epoch 19/30\n",
            "\u001b[1m26/26\u001b[0m \u001b[32m━━━━━━━━━━━━━━━━━━━━\u001b[0m\u001b[37m\u001b[0m \u001b[1m1s\u001b[0m 18ms/step - accuracy: 0.5256 - loss: 1.2141 - val_accuracy: 0.5750 - val_loss: 1.2271\n",
            "Epoch 20/30\n",
            "\u001b[1m26/26\u001b[0m \u001b[32m━━━━━━━━━━━━━━━━━━━━\u001b[0m\u001b[37m\u001b[0m \u001b[1m1s\u001b[0m 14ms/step - accuracy: 0.5144 - loss: 1.2549 - val_accuracy: 0.4500 - val_loss: 1.2115\n",
            "Epoch 21/30\n",
            "\u001b[1m26/26\u001b[0m \u001b[32m━━━━━━━━━━━━━━━━━━━━\u001b[0m\u001b[37m\u001b[0m \u001b[1m1s\u001b[0m 13ms/step - accuracy: 0.5251 - loss: 1.2118 - val_accuracy: 0.5250 - val_loss: 1.1562\n",
            "Epoch 22/30\n",
            "\u001b[1m26/26\u001b[0m \u001b[32m━━━━━━━━━━━━━━━━━━━━\u001b[0m\u001b[37m\u001b[0m \u001b[1m0s\u001b[0m 14ms/step - accuracy: 0.5415 - loss: 1.1970 - val_accuracy: 0.5417 - val_loss: 1.1398\n",
            "Epoch 23/30\n",
            "\u001b[1m26/26\u001b[0m \u001b[32m━━━━━━━━━━━━━━━━━━━━\u001b[0m\u001b[37m\u001b[0m \u001b[1m0s\u001b[0m 13ms/step - accuracy: 0.5418 - loss: 1.2452 - val_accuracy: 0.4417 - val_loss: 1.2004\n",
            "Epoch 24/30\n",
            "\u001b[1m26/26\u001b[0m \u001b[32m━━━━━━━━━━━━━━━━━━━━\u001b[0m\u001b[37m\u001b[0m \u001b[1m1s\u001b[0m 14ms/step - accuracy: 0.5155 - loss: 1.2321 - val_accuracy: 0.4917 - val_loss: 1.1390\n",
            "Epoch 25/30\n",
            "\u001b[1m26/26\u001b[0m \u001b[32m━━━━━━━━━━━━━━━━━━━━\u001b[0m\u001b[37m\u001b[0m \u001b[1m0s\u001b[0m 13ms/step - accuracy: 0.5392 - loss: 1.2220 - val_accuracy: 0.4750 - val_loss: 1.1456\n",
            "Epoch 26/30\n",
            "\u001b[1m26/26\u001b[0m \u001b[32m━━━━━━━━━━━━━━━━━━━━\u001b[0m\u001b[37m\u001b[0m \u001b[1m1s\u001b[0m 14ms/step - accuracy: 0.5437 - loss: 1.2020 - val_accuracy: 0.5167 - val_loss: 1.1273\n",
            "Epoch 27/30\n",
            "\u001b[1m26/26\u001b[0m \u001b[32m━━━━━━━━━━━━━━━━━━━━\u001b[0m\u001b[37m\u001b[0m \u001b[1m1s\u001b[0m 13ms/step - accuracy: 0.5406 - loss: 1.1964 - val_accuracy: 0.5250 - val_loss: 1.1806\n",
            "Epoch 28/30\n",
            "\u001b[1m26/26\u001b[0m \u001b[32m━━━━━━━━━━━━━━━━━━━━\u001b[0m\u001b[37m\u001b[0m \u001b[1m0s\u001b[0m 14ms/step - accuracy: 0.5402 - loss: 1.1791 - val_accuracy: 0.5000 - val_loss: 1.2144\n",
            "Epoch 29/30\n",
            "\u001b[1m26/26\u001b[0m \u001b[32m━━━━━━━━━━━━━━━━━━━━\u001b[0m\u001b[37m\u001b[0m \u001b[1m0s\u001b[0m 13ms/step - accuracy: 0.5279 - loss: 1.1873 - val_accuracy: 0.4833 - val_loss: 1.1768\n",
            "Epoch 30/30\n",
            "\u001b[1m26/26\u001b[0m \u001b[32m━━━━━━━━━━━━━━━━━━━━\u001b[0m\u001b[37m\u001b[0m \u001b[1m1s\u001b[0m 14ms/step - accuracy: 0.5249 - loss: 1.1905 - val_accuracy: 0.5333 - val_loss: 1.1518\n"
          ]
        }
      ]
    },
    {
      "cell_type": "code",
      "source": [
        "# No. de parámetros en una capa FC:\n",
        "# No. unidades capa entrada * No. unidades capa salida + No. unidades capa salida (bias)\n",
        "\n",
        "model.summary()"
      ],
      "metadata": {
        "id": "AAuGNTozEoP3",
        "colab": {
          "base_uri": "https://localhost:8080/",
          "height": 289
        },
        "outputId": "4f03f317-e780-40c7-b179-19926000a272"
      },
      "execution_count": 21,
      "outputs": [
        {
          "output_type": "display_data",
          "data": {
            "text/plain": [
              "\u001b[1mModel: \"sequential\"\u001b[0m\n"
            ],
            "text/html": [
              "<pre style=\"white-space:pre;overflow-x:auto;line-height:normal;font-family:Menlo,'DejaVu Sans Mono',consolas,'Courier New',monospace\"><span style=\"font-weight: bold\">Model: \"sequential\"</span>\n",
              "</pre>\n"
            ]
          },
          "metadata": {}
        },
        {
          "output_type": "display_data",
          "data": {
            "text/plain": [
              "┏━━━━━━━━━━━━━━━━━━━━━━━━━━━━━━━━━┳━━━━━━━━━━━━━━━━━━━━━━━━┳━━━━━━━━━━━━━━━┓\n",
              "┃\u001b[1m \u001b[0m\u001b[1mLayer (type)                   \u001b[0m\u001b[1m \u001b[0m┃\u001b[1m \u001b[0m\u001b[1mOutput Shape          \u001b[0m\u001b[1m \u001b[0m┃\u001b[1m \u001b[0m\u001b[1m      Param #\u001b[0m\u001b[1m \u001b[0m┃\n",
              "┡━━━━━━━━━━━━━━━━━━━━━━━━━━━━━━━━━╇━━━━━━━━━━━━━━━━━━━━━━━━╇━━━━━━━━━━━━━━━┩\n",
              "│ flatten (\u001b[38;5;33mFlatten\u001b[0m)               │ (\u001b[38;5;45mNone\u001b[0m, \u001b[38;5;34m2352\u001b[0m)           │             \u001b[38;5;34m0\u001b[0m │\n",
              "├─────────────────────────────────┼────────────────────────┼───────────────┤\n",
              "│ dense (\u001b[38;5;33mDense\u001b[0m)                   │ (\u001b[38;5;45mNone\u001b[0m, \u001b[38;5;34m256\u001b[0m)            │       \u001b[38;5;34m602,368\u001b[0m │\n",
              "├─────────────────────────────────┼────────────────────────┼───────────────┤\n",
              "│ dense_1 (\u001b[38;5;33mDense\u001b[0m)                 │ (\u001b[38;5;45mNone\u001b[0m, \u001b[38;5;34m64\u001b[0m)             │        \u001b[38;5;34m16,448\u001b[0m │\n",
              "├─────────────────────────────────┼────────────────────────┼───────────────┤\n",
              "│ dense_2 (\u001b[38;5;33mDense\u001b[0m)                 │ (\u001b[38;5;45mNone\u001b[0m, \u001b[38;5;34m5\u001b[0m)              │           \u001b[38;5;34m325\u001b[0m │\n",
              "└─────────────────────────────────┴────────────────────────┴───────────────┘\n"
            ],
            "text/html": [
              "<pre style=\"white-space:pre;overflow-x:auto;line-height:normal;font-family:Menlo,'DejaVu Sans Mono',consolas,'Courier New',monospace\">┏━━━━━━━━━━━━━━━━━━━━━━━━━━━━━━━━━┳━━━━━━━━━━━━━━━━━━━━━━━━┳━━━━━━━━━━━━━━━┓\n",
              "┃<span style=\"font-weight: bold\"> Layer (type)                    </span>┃<span style=\"font-weight: bold\"> Output Shape           </span>┃<span style=\"font-weight: bold\">       Param # </span>┃\n",
              "┡━━━━━━━━━━━━━━━━━━━━━━━━━━━━━━━━━╇━━━━━━━━━━━━━━━━━━━━━━━━╇━━━━━━━━━━━━━━━┩\n",
              "│ flatten (<span style=\"color: #0087ff; text-decoration-color: #0087ff\">Flatten</span>)               │ (<span style=\"color: #00d7ff; text-decoration-color: #00d7ff\">None</span>, <span style=\"color: #00af00; text-decoration-color: #00af00\">2352</span>)           │             <span style=\"color: #00af00; text-decoration-color: #00af00\">0</span> │\n",
              "├─────────────────────────────────┼────────────────────────┼───────────────┤\n",
              "│ dense (<span style=\"color: #0087ff; text-decoration-color: #0087ff\">Dense</span>)                   │ (<span style=\"color: #00d7ff; text-decoration-color: #00d7ff\">None</span>, <span style=\"color: #00af00; text-decoration-color: #00af00\">256</span>)            │       <span style=\"color: #00af00; text-decoration-color: #00af00\">602,368</span> │\n",
              "├─────────────────────────────────┼────────────────────────┼───────────────┤\n",
              "│ dense_1 (<span style=\"color: #0087ff; text-decoration-color: #0087ff\">Dense</span>)                 │ (<span style=\"color: #00d7ff; text-decoration-color: #00d7ff\">None</span>, <span style=\"color: #00af00; text-decoration-color: #00af00\">64</span>)             │        <span style=\"color: #00af00; text-decoration-color: #00af00\">16,448</span> │\n",
              "├─────────────────────────────────┼────────────────────────┼───────────────┤\n",
              "│ dense_2 (<span style=\"color: #0087ff; text-decoration-color: #0087ff\">Dense</span>)                 │ (<span style=\"color: #00d7ff; text-decoration-color: #00d7ff\">None</span>, <span style=\"color: #00af00; text-decoration-color: #00af00\">5</span>)              │           <span style=\"color: #00af00; text-decoration-color: #00af00\">325</span> │\n",
              "└─────────────────────────────────┴────────────────────────┴───────────────┘\n",
              "</pre>\n"
            ]
          },
          "metadata": {}
        },
        {
          "output_type": "display_data",
          "data": {
            "text/plain": [
              "\u001b[1m Total params: \u001b[0m\u001b[38;5;34m1,857,425\u001b[0m (7.09 MB)\n"
            ],
            "text/html": [
              "<pre style=\"white-space:pre;overflow-x:auto;line-height:normal;font-family:Menlo,'DejaVu Sans Mono',consolas,'Courier New',monospace\"><span style=\"font-weight: bold\"> Total params: </span><span style=\"color: #00af00; text-decoration-color: #00af00\">1,857,425</span> (7.09 MB)\n",
              "</pre>\n"
            ]
          },
          "metadata": {}
        },
        {
          "output_type": "display_data",
          "data": {
            "text/plain": [
              "\u001b[1m Trainable params: \u001b[0m\u001b[38;5;34m619,141\u001b[0m (2.36 MB)\n"
            ],
            "text/html": [
              "<pre style=\"white-space:pre;overflow-x:auto;line-height:normal;font-family:Menlo,'DejaVu Sans Mono',consolas,'Courier New',monospace\"><span style=\"font-weight: bold\"> Trainable params: </span><span style=\"color: #00af00; text-decoration-color: #00af00\">619,141</span> (2.36 MB)\n",
              "</pre>\n"
            ]
          },
          "metadata": {}
        },
        {
          "output_type": "display_data",
          "data": {
            "text/plain": [
              "\u001b[1m Non-trainable params: \u001b[0m\u001b[38;5;34m0\u001b[0m (0.00 B)\n"
            ],
            "text/html": [
              "<pre style=\"white-space:pre;overflow-x:auto;line-height:normal;font-family:Menlo,'DejaVu Sans Mono',consolas,'Courier New',monospace\"><span style=\"font-weight: bold\"> Non-trainable params: </span><span style=\"color: #00af00; text-decoration-color: #00af00\">0</span> (0.00 B)\n",
              "</pre>\n"
            ]
          },
          "metadata": {}
        },
        {
          "output_type": "display_data",
          "data": {
            "text/plain": [
              "\u001b[1m Optimizer params: \u001b[0m\u001b[38;5;34m1,238,284\u001b[0m (4.72 MB)\n"
            ],
            "text/html": [
              "<pre style=\"white-space:pre;overflow-x:auto;line-height:normal;font-family:Menlo,'DejaVu Sans Mono',consolas,'Courier New',monospace\"><span style=\"font-weight: bold\"> Optimizer params: </span><span style=\"color: #00af00; text-decoration-color: #00af00\">1,238,284</span> (4.72 MB)\n",
              "</pre>\n"
            ]
          },
          "metadata": {}
        }
      ]
    },
    {
      "cell_type": "markdown",
      "source": [
        "# Evolución del algoritmo"
      ],
      "metadata": {
        "id": "3VyGDSrVJNJh"
      }
    },
    {
      "cell_type": "code",
      "source": [
        "# Gráfica de pérdida\n",
        "import matplotlib.pyplot as plt\n",
        "loss = history.history['loss']\n",
        "val_loss = history.history['val_loss']\n",
        "epochs = range(len(loss))\n",
        "plt.plot(epochs, loss, 'b', label='Loss entrenamiento')\n",
        "plt.plot(epochs, val_loss, 'r', label='Loss validación')\n",
        "plt.title('Loss')\n",
        "plt.legend()\n",
        "plt.show()"
      ],
      "metadata": {
        "id": "xe3sJAreJPjy",
        "colab": {
          "base_uri": "https://localhost:8080/",
          "height": 452
        },
        "outputId": "58b20e02-13d1-4aed-9d46-f1113176d310"
      },
      "execution_count": 22,
      "outputs": [
        {
          "output_type": "display_data",
          "data": {
            "text/plain": [
              "<Figure size 640x480 with 1 Axes>"
            ],
            "image/png": "[encoded data removed]"
          },
          "metadata": {}
        }
      ]
    },
    {
      "cell_type": "code",
      "source": [
        "# Gráfica de Accuracy\n",
        "import matplotlib.pyplot as plt\n",
        "acc = history.history['accuracy']\n",
        "val_acc = history.history['val_accuracy'] # Changed from 'val_categorical_accuracy'\n",
        "epochs = range(len(acc))\n",
        "plt.plot(epochs, acc, 'b', label='ACC entrenamiento')\n",
        "plt.plot(epochs, val_acc, 'r', label='ACC validación')\n",
        "plt.title('ACC')\n",
        "plt.legend()\n",
        "plt.show()"
      ],
      "metadata": {
        "id": "336HIrVVJXTC",
        "colab": {
          "base_uri": "https://localhost:8080/",
          "height": 452
        },
        "outputId": "e1d9a98f-faf2-4a26-9e1d-be22305b9f95"
      },
      "execution_count": 23,
      "outputs": [
        {
          "output_type": "display_data",
          "data": {
            "text/plain": [
              "<Figure size 640x480 with 1 Axes>"
            ],
            "image/png": "[encoded data removed]"
          },
          "metadata": {}
        }
      ]
    },
    {
      "cell_type": "markdown",
      "source": [
        "# Prueba del modelo"
      ],
      "metadata": {
        "id": "vypnUcenJ_qk"
      }
    },
    {
      "cell_type": "code",
      "source": [
        "index = random.randint(0, len(x_test) -1)\n",
        "image = x_test[index]\n",
        "label = y_test[index]\n",
        "plt.imshow(image)\n",
        "plt.show()"
      ],
      "metadata": {
        "id": "PP3NKXwWKQen",
        "colab": {
          "base_uri": "https://localhost:8080/",
          "height": 430
        },
        "outputId": "ba3b639e-f735-4ee7-af8c-ab6445aee8bc",
        "collapsed": true
      },
      "execution_count": 24,
      "outputs": [
        {
          "output_type": "display_data",
          "data": {
            "text/plain": [
              "<Figure size 640x480 with 1 Axes>"
            ],
            "image/png": "[encoded data removed]"
          },
          "metadata": {}
        }
      ]
    },
    {
      "cell_type": "code",
      "source": [
        "label_index = label.argmax()  # índice de la clase\n",
        "print(f\"Etiqueta real: {label_index}\")"
      ],
      "metadata": {
        "colab": {
          "base_uri": "https://localhost:8080/"
        },
        "id": "O1SfUVaxw31p",
        "outputId": "cda9948f-a0dd-4bb8-8870-8930e220cf9e"
      },
      "execution_count": 25,
      "outputs": [
        {
          "output_type": "stream",
          "name": "stdout",
          "text": [
            "Etiqueta real: 3\n"
          ]
        }
      ]
    },
    {
      "cell_type": "code",
      "source": [
        "image = (image.reshape((1, 28, 28, 3))).astype('float32') / 255.0"
      ],
      "metadata": {
        "id": "Xvtd2dVHQAZ0"
      },
      "execution_count": 26,
      "outputs": []
    },
    {
      "cell_type": "code",
      "source": [
        "model.predict(image)[0]"
      ],
      "metadata": {
        "id": "cAAbL3-AQHXt",
        "colab": {
          "base_uri": "https://localhost:8080/"
        },
        "outputId": "7a991361-ca62-43a6-f0e7-6467fb3d22b9"
      },
      "execution_count": 27,
      "outputs": [
        {
          "output_type": "stream",
          "name": "stdout",
          "text": [
            "\u001b[1m1/1\u001b[0m \u001b[32m━━━━━━━━━━━━━━━━━━━━\u001b[0m\u001b[37m\u001b[0m \u001b[1m0s\u001b[0m 78ms/step\n"
          ]
        },
        {
          "output_type": "execute_result",
          "data": {
            "text/plain": [
              "array([0.1365473 , 0.28778505, 0.23342934, 0.3166142 , 0.0256241 ],\n",
              "      dtype=float32)"
            ]
          },
          "metadata": {},
          "execution_count": 27
        }
      ]
    },
    {
      "cell_type": "code",
      "source": [
        "digit = np.argmax(model.predict(image)[0], axis=-1)\n",
        "print(\"Prediction: \", digit)"
      ],
      "metadata": {
        "id": "Q39sc8ozQVAp",
        "colab": {
          "base_uri": "https://localhost:8080/"
        },
        "outputId": "7339fbec-9ce8-48af-c471-681c6e2a6e98"
      },
      "execution_count": 28,
      "outputs": [
        {
          "output_type": "stream",
          "name": "stdout",
          "text": [
            "\u001b[1m1/1\u001b[0m \u001b[32m━━━━━━━━━━━━━━━━━━━━\u001b[0m\u001b[37m\u001b[0m \u001b[1m0s\u001b[0m 40ms/step\n",
            "Prediction:  3\n"
          ]
        }
      ]
    }
  ],
  "metadata": {
    "colab": {
      "provenance": []
    },
    "kernelspec": {
      "display_name": "Python 3",
      "name": "python3"
    },
    "language_info": {
      "name": "python"
    }
  },
  "nbformat": 4,
  "nbformat_minor": 0
}