{
  "cells": [
    {
      "cell_type": "markdown",
      "metadata": {
        "id": "tATe7h4EzWLW"
      },
      "source": [
        "UNIVERSIDAD MILITAR NUEVA GRANADA\n",
        "\n",
        "PERCEPTRON MULTICAPA\n",
        "\n",
        "Jenifer Leiva  \n",
        "Astrid Melo\n"
      ]
    },
    {
      "cell_type": "code",
      "execution_count": 2,
      "metadata": {
        "id": "mmwGM0Sly6Fz"
      },
      "outputs": [],
      "source": [
        "# Carga de librerías\n",
        "import numpy as np\n",
        "import random\n",
        "import tensorflow as tf\n",
        "import matplotlib.pyplot as plt"
      ]
    },
    {
      "cell_type": "code",
      "execution_count": 3,
      "metadata": {
        "id": "CyfZ3ONZzjDs"
      },
      "outputs": [],
      "source": [
        "# Carga de módulos\n",
        "from tensorflow.keras.models import Sequential\n",
        "from tensorflow.keras.layers import Flatten, Dense\n",
        "from tensorflow.keras.utils import to_categorical"
      ]
    },
    {
      "cell_type": "markdown",
      "metadata": {
        "id": "_PpZ8mIrzmjt"
      },
      "source": [
        "**Dataset**\n",
        "MedMNIST dataset\n",
        "RetinaMNIST\n",
        "\n",
        "1600 imágenes\n",
        "\n",
        "Imágenes 28x28 (Tomografía macular de la retina)\n",
        "\n",
        "Labels: 4\n",
        "\n",
        " (train & test por separado)"
      ]
    },
    {
      "cell_type": "code",
      "execution_count": 4,
      "metadata": {
        "colab": {
          "base_uri": "https://localhost:8080/"
        },
        "collapsed": true,
        "id": "f2d2307d",
        "outputId": "7f354a4f-19ec-4517-a890-4439a8b60227"
      },
      "outputs": [
        {
          "output_type": "stream",
          "name": "stdout",
          "text": [
            "Collecting medmnist\n",
            "  Downloading medmnist-3.0.2-py3-none-any.whl.metadata (14 kB)\n",
            "Requirement already satisfied: numpy in /usr/local/lib/python3.12/dist-packages (from medmnist) (2.0.2)\n",
            "Requirement already satisfied: pandas in /usr/local/lib/python3.12/dist-packages (from medmnist) (2.2.2)\n",
            "Requirement already satisfied: scikit-learn in /usr/local/lib/python3.12/dist-packages (from medmnist) (1.6.1)\n",
            "Requirement already satisfied: scikit-image in /usr/local/lib/python3.12/dist-packages (from medmnist) (0.25.2)\n",
            "Requirement already satisfied: tqdm in /usr/local/lib/python3.12/dist-packages (from medmnist) (4.67.1)\n",
            "Requirement already satisfied: Pillow in /usr/local/lib/python3.12/dist-packages (from medmnist) (11.3.0)\n",
            "Collecting fire (from medmnist)\n",
            "  Downloading fire-0.7.1-py3-none-any.whl.metadata (5.8 kB)\n",
            "Requirement already satisfied: torch in /usr/local/lib/python3.12/dist-packages (from medmnist) (2.8.0+cu126)\n",
            "Requirement already satisfied: torchvision in /usr/local/lib/python3.12/dist-packages (from medmnist) (0.23.0+cu126)\n",
            "Requirement already satisfied: termcolor in /usr/local/lib/python3.12/dist-packages (from fire->medmnist) (3.1.0)\n",
            "Requirement already satisfied: python-dateutil>=2.8.2 in /usr/local/lib/python3.12/dist-packages (from pandas->medmnist) (2.9.0.post0)\n",
            "Requirement already satisfied: pytz>=2020.1 in /usr/local/lib/python3.12/dist-packages (from pandas->medmnist) (2025.2)\n",
            "Requirement already satisfied: tzdata>=2022.7 in /usr/local/lib/python3.12/dist-packages (from pandas->medmnist) (2025.2)\n",
            "Requirement already satisfied: scipy>=1.11.4 in /usr/local/lib/python3.12/dist-packages (from scikit-image->medmnist) (1.16.1)\n",
            "Requirement already satisfied: networkx>=3.0 in /usr/local/lib/python3.12/dist-packages (from scikit-image->medmnist) (3.5)\n",
            "Requirement already satisfied: imageio!=2.35.0,>=2.33 in /usr/local/lib/python3.12/dist-packages (from scikit-image->medmnist) (2.37.0)\n",
            "Requirement already satisfied: tifffile>=2022.8.12 in /usr/local/lib/python3.12/dist-packages (from scikit-image->medmnist) (2025.6.11)\n",
            "Requirement already satisfied: packaging>=21 in /usr/local/lib/python3.12/dist-packages (from scikit-image->medmnist) (25.0)\n",
            "Requirement already satisfied: lazy-loader>=0.4 in /usr/local/lib/python3.12/dist-packages (from scikit-image->medmnist) (0.4)\n",
            "Requirement already satisfied: joblib>=1.2.0 in /usr/local/lib/python3.12/dist-packages (from scikit-learn->medmnist) (1.5.1)\n",
            "Requirement already satisfied: threadpoolctl>=3.1.0 in /usr/local/lib/python3.12/dist-packages (from scikit-learn->medmnist) (3.6.0)\n",
            "Requirement already satisfied: filelock in /usr/local/lib/python3.12/dist-packages (from torch->medmnist) (3.19.1)\n",
            "Requirement already satisfied: typing-extensions>=4.10.0 in /usr/local/lib/python3.12/dist-packages (from torch->medmnist) (4.14.1)\n",
            "Requirement already satisfied: setuptools in /usr/local/lib/python3.12/dist-packages (from torch->medmnist) (75.2.0)\n",
            "Requirement already satisfied: sympy>=1.13.3 in /usr/local/lib/python3.12/dist-packages (from torch->medmnist) (1.13.3)\n",
            "Requirement already satisfied: jinja2 in /usr/local/lib/python3.12/dist-packages (from torch->medmnist) (3.1.6)\n",
            "Requirement already satisfied: fsspec in /usr/local/lib/python3.12/dist-packages (from torch->medmnist) (2025.3.0)\n",
            "Requirement already satisfied: nvidia-cuda-nvrtc-cu12==12.6.77 in /usr/local/lib/python3.12/dist-packages (from torch->medmnist) (12.6.77)\n",
            "Requirement already satisfied: nvidia-cuda-runtime-cu12==12.6.77 in /usr/local/lib/python3.12/dist-packages (from torch->medmnist) (12.6.77)\n",
            "Requirement already satisfied: nvidia-cuda-cupti-cu12==12.6.80 in /usr/local/lib/python3.12/dist-packages (from torch->medmnist) (12.6.80)\n",
            "Requirement already satisfied: nvidia-cudnn-cu12==9.10.2.21 in /usr/local/lib/python3.12/dist-packages (from torch->medmnist) (9.10.2.21)\n",
            "Requirement already satisfied: nvidia-cublas-cu12==12.6.4.1 in /usr/local/lib/python3.12/dist-packages (from torch->medmnist) (12.6.4.1)\n",
            "Requirement already satisfied: nvidia-cufft-cu12==11.3.0.4 in /usr/local/lib/python3.12/dist-packages (from torch->medmnist) (11.3.0.4)\n",
            "Requirement already satisfied: nvidia-curand-cu12==10.3.7.77 in /usr/local/lib/python3.12/dist-packages (from torch->medmnist) (10.3.7.77)\n",
            "Requirement already satisfied: nvidia-cusolver-cu12==11.7.1.2 in /usr/local/lib/python3.12/dist-packages (from torch->medmnist) (11.7.1.2)\n",
            "Requirement already satisfied: nvidia-cusparse-cu12==12.5.4.2 in /usr/local/lib/python3.12/dist-packages (from torch->medmnist) (12.5.4.2)\n",
            "Requirement already satisfied: nvidia-cusparselt-cu12==0.7.1 in /usr/local/lib/python3.12/dist-packages (from torch->medmnist) (0.7.1)\n",
            "Requirement already satisfied: nvidia-nccl-cu12==2.27.3 in /usr/local/lib/python3.12/dist-packages (from torch->medmnist) (2.27.3)\n",
            "Requirement already satisfied: nvidia-nvtx-cu12==12.6.77 in /usr/local/lib/python3.12/dist-packages (from torch->medmnist) (12.6.77)\n",
            "Requirement already satisfied: nvidia-nvjitlink-cu12==12.6.85 in /usr/local/lib/python3.12/dist-packages (from torch->medmnist) (12.6.85)\n",
            "Requirement already satisfied: nvidia-cufile-cu12==1.11.1.6 in /usr/local/lib/python3.12/dist-packages (from torch->medmnist) (1.11.1.6)\n",
            "Requirement already satisfied: triton==3.4.0 in /usr/local/lib/python3.12/dist-packages (from torch->medmnist) (3.4.0)\n",
            "Requirement already satisfied: six>=1.5 in /usr/local/lib/python3.12/dist-packages (from python-dateutil>=2.8.2->pandas->medmnist) (1.17.0)\n",
            "Requirement already satisfied: mpmath<1.4,>=1.1.0 in /usr/local/lib/python3.12/dist-packages (from sympy>=1.13.3->torch->medmnist) (1.3.0)\n",
            "Requirement already satisfied: MarkupSafe>=2.0 in /usr/local/lib/python3.12/dist-packages (from jinja2->torch->medmnist) (3.0.2)\n",
            "Downloading medmnist-3.0.2-py3-none-any.whl (25 kB)\n",
            "Downloading fire-0.7.1-py3-none-any.whl (115 kB)\n",
            "\u001b[2K   \u001b[90m━━━━━━━━━━━━━━━━━━━━━━━━━━━━━━━━━━━━━━━━\u001b[0m \u001b[32m115.9/115.9 kB\u001b[0m \u001b[31m11.3 MB/s\u001b[0m eta \u001b[36m0:00:00\u001b[0m\n",
            "\u001b[?25hInstalling collected packages: fire, medmnist\n",
            "Successfully installed fire-0.7.1 medmnist-3.0.2\n"
          ]
        }
      ],
      "source": [
        "!pip install medmnist"
      ]
    },
    {
      "cell_type": "code",
      "execution_count": 5,
      "metadata": {
        "colab": {
          "base_uri": "https://localhost:8080/"
        },
        "collapsed": true,
        "id": "bb93e32f",
        "outputId": "9bf7ba8a-b562-4ad9-cdea-31be527df9d9"
      },
      "outputs": [
        {
          "output_type": "stream",
          "name": "stdout",
          "text": [
            "Collecting keras_tuner\n",
            "  Downloading keras_tuner-1.4.7-py3-none-any.whl.metadata (5.4 kB)\n",
            "Requirement already satisfied: keras in /usr/local/lib/python3.12/dist-packages (from keras_tuner) (3.10.0)\n",
            "Requirement already satisfied: packaging in /usr/local/lib/python3.12/dist-packages (from keras_tuner) (25.0)\n",
            "Requirement already satisfied: requests in /usr/local/lib/python3.12/dist-packages (from keras_tuner) (2.32.4)\n",
            "Collecting kt-legacy (from keras_tuner)\n",
            "  Downloading kt_legacy-1.0.5-py3-none-any.whl.metadata (221 bytes)\n",
            "Requirement already satisfied: absl-py in /usr/local/lib/python3.12/dist-packages (from keras->keras_tuner) (1.4.0)\n",
            "Requirement already satisfied: numpy in /usr/local/lib/python3.12/dist-packages (from keras->keras_tuner) (2.0.2)\n",
            "Requirement already satisfied: rich in /usr/local/lib/python3.12/dist-packages (from keras->keras_tuner) (13.9.4)\n",
            "Requirement already satisfied: namex in /usr/local/lib/python3.12/dist-packages (from keras->keras_tuner) (0.1.0)\n",
            "Requirement already satisfied: h5py in /usr/local/lib/python3.12/dist-packages (from keras->keras_tuner) (3.14.0)\n",
            "Requirement already satisfied: optree in /usr/local/lib/python3.12/dist-packages (from keras->keras_tuner) (0.17.0)\n",
            "Requirement already satisfied: ml-dtypes in /usr/local/lib/python3.12/dist-packages (from keras->keras_tuner) (0.5.3)\n",
            "Requirement already satisfied: charset_normalizer<4,>=2 in /usr/local/lib/python3.12/dist-packages (from requests->keras_tuner) (3.4.3)\n",
            "Requirement already satisfied: idna<4,>=2.5 in /usr/local/lib/python3.12/dist-packages (from requests->keras_tuner) (3.10)\n",
            "Requirement already satisfied: urllib3<3,>=1.21.1 in /usr/local/lib/python3.12/dist-packages (from requests->keras_tuner) (2.5.0)\n",
            "Requirement already satisfied: certifi>=2017.4.17 in /usr/local/lib/python3.12/dist-packages (from requests->keras_tuner) (2025.8.3)\n",
            "Requirement already satisfied: typing-extensions>=4.6.0 in /usr/local/lib/python3.12/dist-packages (from optree->keras->keras_tuner) (4.14.1)\n",
            "Requirement already satisfied: markdown-it-py>=2.2.0 in /usr/local/lib/python3.12/dist-packages (from rich->keras->keras_tuner) (4.0.0)\n",
            "Requirement already satisfied: pygments<3.0.0,>=2.13.0 in /usr/local/lib/python3.12/dist-packages (from rich->keras->keras_tuner) (2.19.2)\n",
            "Requirement already satisfied: mdurl~=0.1 in /usr/local/lib/python3.12/dist-packages (from markdown-it-py>=2.2.0->rich->keras->keras_tuner) (0.1.2)\n",
            "Downloading keras_tuner-1.4.7-py3-none-any.whl (129 kB)\n",
            "\u001b[2K   \u001b[90m━━━━━━━━━━━━━━━━━━━━━━━━━━━━━━━━━━━━━━━━\u001b[0m \u001b[32m129.1/129.1 kB\u001b[0m \u001b[31m2.1 MB/s\u001b[0m eta \u001b[36m0:00:00\u001b[0m\n",
            "\u001b[?25hDownloading kt_legacy-1.0.5-py3-none-any.whl (9.6 kB)\n",
            "Installing collected packages: kt-legacy, keras_tuner\n",
            "Successfully installed keras_tuner-1.4.7 kt-legacy-1.0.5\n"
          ]
        }
      ],
      "source": [
        "!pip install keras_tuner"
      ]
    },
    {
      "cell_type": "code",
      "execution_count": 6,
      "metadata": {
        "id": "lOzXXRw50dQ-"
      },
      "outputs": [],
      "source": [
        "# Carga de módulos\n",
        "from medmnist import RetinaMNIST"
      ]
    },
    {
      "cell_type": "code",
      "execution_count": 7,
      "metadata": {
        "id": "myZh3H-B1V1M",
        "colab": {
          "base_uri": "https://localhost:8080/"
        },
        "outputId": "71b60187-505f-4ca5-a779-4e09dfc05d7a"
      },
      "outputs": [
        {
          "output_type": "stream",
          "name": "stderr",
          "text": [
            "100%|██████████| 3.29M/3.29M [00:03<00:00, 1.01MB/s]\n"
          ]
        }
      ],
      "source": [
        "# Cargar train y test\n",
        "train_dataset = RetinaMNIST(split=\"train\", download=True)\n",
        "val_dataset   = RetinaMNIST(split=\"val\", download=True)\n",
        "test_dataset = RetinaMNIST(split=\"test\", download=True)\n",
        "\n",
        "# Convertir a arrays\n",
        "x_train = np.array([img for img, _ in train_dataset])\n",
        "y_train = np.array([label for _, label in train_dataset])\n",
        "\n",
        "x_val = np.array([img for img, _ in val_dataset])\n",
        "y_val = np.array([label for _, label in val_dataset])\n",
        "\n",
        "x_test = np.array([img for img, _ in test_dataset])\n",
        "y_test = np.array([label for _, label in test_dataset])"
      ]
    },
    {
      "cell_type": "code",
      "execution_count": 8,
      "metadata": {
        "id": "xWClg9dC4p2Y"
      },
      "outputs": [],
      "source": [
        "#Reshape a un tensor de 4 dimensiones: batch size, width, height, color channels\n",
        "\n",
        "x_train = x_train.reshape( (x_train.shape[0], 28, 28, 3))"
      ]
    },
    {
      "cell_type": "code",
      "execution_count": 9,
      "metadata": {
        "id": "KoIAqOxA5Jlm"
      },
      "outputs": [],
      "source": [
        "# Normalizar\n",
        "x_train = x_train.astype('float32') / 255.0"
      ]
    },
    {
      "cell_type": "code",
      "execution_count": 10,
      "metadata": {
        "colab": {
          "base_uri": "https://localhost:8080/"
        },
        "id": "gKXkKVhA5Q3H",
        "outputId": "11044b76-6f05-432d-b2a3-e3378eeae269"
      },
      "outputs": [
        {
          "output_type": "execute_result",
          "data": {
            "text/plain": [
              "array([[0],\n",
              "       [0],\n",
              "       [0],\n",
              "       ...,\n",
              "       [2],\n",
              "       [2],\n",
              "       [3]])"
            ]
          },
          "metadata": {},
          "execution_count": 10
        }
      ],
      "source": [
        "#Labels\n",
        "y_train"
      ]
    },
    {
      "cell_type": "code",
      "execution_count": 11,
      "metadata": {
        "id": "P3_Whq1R-Iss"
      },
      "outputs": [],
      "source": [
        "# Representación one-hot (categorical)\n",
        "y_train = to_categorical(y_train, num_classes=5)"
      ]
    },
    {
      "cell_type": "markdown",
      "metadata": {
        "id": "vpLKtAtM5-IA"
      },
      "source": [
        "## Hiperparametros"
      ]
    },
    {
      "cell_type": "code",
      "execution_count": 12,
      "metadata": {
        "id": "5XVYzMKG6B_A"
      },
      "outputs": [],
      "source": [
        "from tensorflow import keras\n",
        "import keras_tuner as kt\n",
        "from tensorflow.keras import layers"
      ]
    },
    {
      "cell_type": "code",
      "execution_count": 13,
      "metadata": {
        "id": "97a2a74b"
      },
      "outputs": [],
      "source": [
        "# Normalize x_test\n",
        "x_val = x_val.astype('float32') / 255.0"
      ]
    },
    {
      "cell_type": "code",
      "execution_count": 14,
      "metadata": {
        "id": "b80c624d"
      },
      "outputs": [],
      "source": [
        "#Reshape x_test to a 4-dimensional tensor: batch size, width, height, color channels\n",
        "x_val = x_val.reshape( (x_val.shape[0], 28, 28, 3))"
      ]
    },
    {
      "cell_type": "code",
      "execution_count": 15,
      "metadata": {
        "id": "9474f2d8"
      },
      "outputs": [],
      "source": [
        "y_val = to_categorical(y_val, num_classes=5)"
      ]
    },
    {
      "cell_type": "code",
      "execution_count": 16,
      "metadata": {
        "colab": {
          "base_uri": "https://localhost:8080/"
        },
        "id": "eNwr09e5XMUP",
        "outputId": "3a2b6965-e2dd-4eb7-b44b-37a904e20237"
      },
      "outputs": [
        {
          "output_type": "stream",
          "name": "stdout",
          "text": [
            "Trial 90 Complete [00h 00m 11s]\n",
            "val_accuracy: 0.46666666865348816\n",
            "\n",
            "Best val_accuracy So Far: 0.625\n",
            "Total elapsed time: 00h 06m 05s\n"
          ]
        }
      ],
      "source": [
        "# Definir la función de construcción del modelo\n",
        "#modelo 1\n",
        "def build_model(hp):\n",
        "    model = keras.Sequential()\n",
        "\n",
        "    # Add a Flatten layer to flatten the input images\n",
        "    model.add(layers.Flatten(input_shape=(28, 28, 3)))\n",
        "\n",
        "    # Capa oculta con número de neuronas como hiperparámetro\n",
        "    model.add(layers.Dense(\n",
        "        units=hp.Int('units', min_value=32, max_value=256, step=32),\n",
        "        activation='relu'\n",
        "    ))\n",
        "    model.add(layers.Dense(5, activation='softmax')) # Changed to 5 classes based on unique labels\n",
        "\n",
        "    # Definir optimizador y learning rate como hiperparámetros\n",
        "    optimizer = hp.Choice('optimizer', ['adam', 'sgd', 'rmsprop'])\n",
        "    learning_rate = hp.Choice('learning_rate', [1e-2, 1e-3, 1e-4])\n",
        "\n",
        "    if optimizer == 'adam':\n",
        "        optimizer = keras.optimizers.Adam(learning_rate=learning_rate)\n",
        "    elif optimizer == 'sgd':\n",
        "        optimizer = keras.optimizers.SGD(learning_rate=learning_rate)\n",
        "    else:\n",
        "        optimizer = keras.optimizers.RMSprop(learning_rate=learning_rate)\n",
        "\n",
        "    # Compilar el modelo\n",
        "    model.compile(\n",
        "        optimizer=optimizer,\n",
        "        loss='categorical_crossentropy',\n",
        "        metrics=['accuracy']\n",
        "    )\n",
        "    return model\n",
        "\n",
        "# Definir el tuner\n",
        "tuner = kt.Hyperband(\n",
        "    #construir el modelo d eparametros\n",
        "    hypermodel=build_model,\n",
        "    #optimizar valor de accuracy\n",
        "    objective='val_accuracy',   # Debe ir como string\n",
        "    #numero de epocas\n",
        "    max_epochs=30,\n",
        "    #directorio para guardar resultados hiperparametros\n",
        "    directory=\"keras_tuner_dir\",\n",
        "    project_name=\"keras_tuner_demo\"\n",
        ")\n",
        "\n",
        "epochs=30;\n",
        "batch_size=32;\n",
        "\n",
        "\n",
        "tuner.search(x_train, y_train,\n",
        "             epochs=epochs,\n",
        "             validation_data=(x_val, y_val),\n",
        "            batch_size=batch_size)\n",
        "\n",
        "\n",
        "best_hps = tuner.get_best_hyperparameters(num_trials=1)[0]"
      ]
    },
    {
      "cell_type": "code",
      "execution_count": 17,
      "metadata": {
        "colab": {
          "base_uri": "https://localhost:8080/"
        },
        "id": "f5U9pqow9hQg",
        "outputId": "96c4d64a-cfa1-4b7c-a0f4-ee632a16873e"
      },
      "outputs": [
        {
          "output_type": "stream",
          "name": "stdout",
          "text": [
            "Trial 79 Complete [00h 00m 06s]\n",
            "val_accuracy: 0.574999988079071\n",
            "\n",
            "Best val_accuracy So Far: 0.6333333253860474\n",
            "Total elapsed time: 00h 05m 05s\n"
          ]
        }
      ],
      "source": [
        "# Definir la función de construcción del modelo\n",
        "#modelo 2\n",
        "def build_model2(hp):\n",
        "    model2 = keras.Sequential()\n",
        "\n",
        "    # Add a Flatten layer to flatten the input images\n",
        "    model2.add(layers.Flatten(input_shape=(28, 28, 3)))\n",
        "\n",
        "    # Capa oculta con número de neuronas como hiperparámetro\n",
        "    model2.add(layers.Dense(\n",
        "        units=hp.Int('units', min_value=96, max_value=256, step=32),\n",
        "        activation='relu'\n",
        "    ))\n",
        "    model2.add(layers.Dense(5, activation='softmax')) # Changed to 5 classes based on unique labels\n",
        "\n",
        "    # Definir optimizador y learning rate como hiperparámetros\n",
        "    optimizer = hp.Choice('optimizer', ['adam', 'sgd', 'rmsprop'])\n",
        "    learning_rate = hp.Choice('learning_rate', [1e-2, 1e-3, 1e-4])\n",
        "\n",
        "    if optimizer == 'adam':\n",
        "        optimizer = keras.optimizers.Adam(learning_rate=learning_rate)\n",
        "    elif optimizer == 'sgd':\n",
        "        optimizer = keras.optimizers.SGD(learning_rate=learning_rate)\n",
        "    else:\n",
        "        optimizer = keras.optimizers.RMSprop(learning_rate=learning_rate)\n",
        "\n",
        "    # Compilar el modelo\n",
        "    model2.compile(\n",
        "        optimizer=optimizer,\n",
        "        loss='categorical_crossentropy',\n",
        "        metrics=['accuracy']\n",
        "    )\n",
        "    return model2\n",
        "\n",
        "# Definir el tuner\n",
        "tuner = kt.Hyperband(\n",
        "    #construir el modelo d eparametros\n",
        "    hypermodel=build_model2,\n",
        "    #optimizar valor de accuracy\n",
        "    objective='val_accuracy',   # Debe ir como string\n",
        "    #numero de epocas\n",
        "    max_epochs=30,\n",
        "    #directorio para guardar resultados hiperparametros\n",
        "    directory=\"keras_tuner_dir\",\n",
        "    project_name=\"keras_tuner_demo2\"\n",
        ")\n",
        "\n",
        "epochs=30;\n",
        "batch_size=42;\n",
        "\n",
        "\n",
        "tuner.search(x_train, y_train,\n",
        "             epochs=epochs,\n",
        "             validation_data=(x_val, y_val),\n",
        "            batch_size=batch_size)\n",
        "\n",
        "\n",
        "best_hps = tuner.get_best_hyperparameters(num_trials=1)[0]"
      ]
    },
    {
      "cell_type": "code",
      "execution_count": 18,
      "metadata": {
        "colab": {
          "base_uri": "https://localhost:8080/"
        },
        "id": "xL2iur2p_r8Z",
        "outputId": "0c34f3e3-1298-445e-e51d-62bf2f75e527"
      },
      "outputs": [
        {
          "output_type": "stream",
          "name": "stdout",
          "text": [
            "Trial 75 Complete [00h 00m 07s]\n",
            "val_accuracy: 0.4833333194255829\n",
            "\n",
            "Best val_accuracy So Far: 0.6083333492279053\n",
            "Total elapsed time: 00h 05m 24s\n"
          ]
        }
      ],
      "source": [
        "# Definir la función de construcción del modelo\n",
        "#modelo 3 dropout\n",
        "def build_model3(hp):\n",
        "    model3 = keras.Sequential()\n",
        "\n",
        "    # Add a Flatten layer to flatten the input images\n",
        "    model3.add(layers.Flatten(input_shape=(28, 28, 3)))\n",
        "\n",
        "    model3.add(layers.Dropout(0.5))\n",
        "\n",
        "    # Capa oculta con número de neuronas como hiperparámetro\n",
        "    model3.add(layers.Dense(\n",
        "        units=hp.Int('units', min_value=96, max_value=256, step=32),\n",
        "        activation='relu'\n",
        "    ))\n",
        "    model3.add(layers.Dense(5, activation='softmax')) # Changed to 5 classes based on unique labels\n",
        "\n",
        "    # Definir optimizador y learning rate como hiperparámetros\n",
        "    optimizer = hp.Choice('optimizer', ['adam', 'sgd', 'rmsprop'])\n",
        "    learning_rate = hp.Choice('learning_rate', [1e-2, 1e-3, 1e-4])\n",
        "\n",
        "    if optimizer == 'adam':\n",
        "        optimizer = keras.optimizers.Adam(learning_rate=learning_rate)\n",
        "    elif optimizer == 'sgd':\n",
        "        optimizer = keras.optimizers.SGD(learning_rate=learning_rate)\n",
        "    else:\n",
        "        optimizer = keras.optimizers.RMSprop(learning_rate=learning_rate)\n",
        "\n",
        "    # Compilar el modelo\n",
        "    model3.compile(\n",
        "        optimizer=optimizer,\n",
        "        loss='categorical_crossentropy',\n",
        "        metrics=['accuracy']\n",
        "    )\n",
        "    return model3\n",
        "\n",
        "# Definir el tuner\n",
        "tuner = kt.Hyperband(\n",
        "    #construir el modelo d eparametros\n",
        "    hypermodel=build_model3,\n",
        "    #optimizar valor de accuracy\n",
        "    objective='val_accuracy',   # Debe ir como string\n",
        "    #numero de epocas\n",
        "    max_epochs=30,\n",
        "    #directorio para guardar resultados hiperparametros\n",
        "    directory=\"keras_tuner_dir\",\n",
        "    project_name=\"keras_tuner_demo3\"\n",
        ")\n",
        "\n",
        "epochs=30;\n",
        "batch_size=42;\n",
        "\n",
        "\n",
        "tuner.search(x_train, y_train,\n",
        "             epochs=epochs,\n",
        "             validation_data=(x_val, y_val),\n",
        "            batch_size=batch_size)\n",
        "\n",
        "\n",
        "best_hps = tuner.get_best_hyperparameters(num_trials=1)[0]"
      ]
    },
    {
      "cell_type": "code",
      "execution_count": null,
      "metadata": {
        "colab": {
          "base_uri": "https://localhost:8080/"
        },
        "id": "PMqaWxp3AL7a",
        "outputId": "457330d8-2984-47fb-eb2f-195d09ce2551"
      },
      "outputs": [
        {
          "output_type": "stream",
          "name": "stdout",
          "text": [
            "Trial 54 Complete [00h 00m 05s]\n",
            "val_accuracy: 0.10000000149011612\n",
            "\n",
            "Best val_accuracy So Far: 0.6000000238418579\n",
            "Total elapsed time: 00h 04m 15s\n"
          ]
        }
      ],
      "source": [
        "# Definir la función de construcción del modelo\n",
        "#modelo 4 weight decay\n",
        "weight_decay = 0.001;\n",
        "def build_model4(hp):\n",
        "    model4 = keras.Sequential()\n",
        "\n",
        "    # Add a Flatten layer to flatten the input images\n",
        "    model4.add(layers.Flatten(input_shape=(28, 28, 3)))\n",
        "    # Capa oculta con número de neuronas como hiperparámetro\n",
        "    model4.add(layers.Dense(\n",
        "        units=hp.Int('units', min_value=96, max_value=256, step=32),\n",
        "        activation='relu',\n",
        "        kernel_regularizer=tf.keras.regularizers.l2(weight_decay)\n",
        "    ))\n",
        "\n",
        "    model4.add(layers.Dense(\n",
        "        units=64,\n",
        "        activation='sigmoid',\n",
        "        kernel_regularizer=tf.keras.regularizers.l2(weight_decay)\n",
        "    ))\n",
        "\n",
        "    model4.add(layers.Dense(5, activation='softmax')) # Changed to 5 classes based on unique labels\n",
        "\n",
        "    # Definir optimizador y learning rate como hiperparámetros\n",
        "    optimizer = hp.Choice('optimizer', ['adam', 'sgd', 'rmsprop'])\n",
        "    learning_rate = hp.Choice('learning_rate', [1e-2, 1e-3, 1e-4])\n",
        "\n",
        "    if optimizer == 'adam':\n",
        "        optimizer = keras.optimizers.Adam(learning_rate=learning_rate)\n",
        "    elif optimizer == 'sgd':\n",
        "        optimizer = keras.optimizers.SGD(learning_rate=learning_rate)\n",
        "    else:\n",
        "        optimizer = keras.optimizers.RMSprop(learning_rate=learning_rate)\n",
        "\n",
        "    # Compilar el modelo\n",
        "    model4.compile(\n",
        "        optimizer=optimizer,\n",
        "        loss='categorical_crossentropy',\n",
        "        metrics=['accuracy']\n",
        "    )\n",
        "    return model4\n",
        "\n",
        "# Definir el tuner\n",
        "tuner = kt.Hyperband(\n",
        "    #construir el modelo d eparametros\n",
        "    hypermodel=build_model4,\n",
        "    #optimizar valor de accuracy\n",
        "    objective='val_accuracy',   # Debe ir como string\n",
        "    #numero de epocas\n",
        "    max_epochs=30,\n",
        "    #directorio para guardar resultados hiperparametros\n",
        "    directory=\"keras_tuner_dir\",\n",
        "    project_name=\"keras_tuner_demo4\"\n",
        ")\n",
        "\n",
        "epochs=30;\n",
        "batch_size=42;\n",
        "\n",
        "\n",
        "tuner.search(x_train, y_train,\n",
        "             epochs=epochs,\n",
        "             validation_data=(x_val, y_val),\n",
        "            batch_size=batch_size)\n",
        "\n",
        "\n",
        "best_hps = tuner.get_best_hyperparameters(num_trials=1)[0]"
      ]
    },
    {
      "cell_type": "code",
      "execution_count": null,
      "metadata": {
        "id": "62ad2fa2"
      },
      "outputs": [],
      "source": [
        "#Imprimir Hiperparámetros seleccionados\n",
        "\n",
        "print(best_hps.values)"
      ]
    },
    {
      "cell_type": "markdown",
      "metadata": {
        "id": "BSuHbqW46cCn"
      },
      "source": [
        "# Entrenamiento"
      ]
    },
    {
      "cell_type": "code",
      "execution_count": null,
      "metadata": {
        "id": "xNbAmz6uvbjQ"
      },
      "outputs": [],
      "source": [
        "# Construir el modelo con los mejores hiperparámetros\n",
        "model = build_model4(best_hps)\n",
        "\n",
        "# Convert y_test to one-hot encoding\n",
        "y_test = to_categorical(y_test, num_classes=5)\n",
        "\n",
        "# Entrenar el modelo\n",
        "history = model.fit(\n",
        "    x_train,\n",
        "    y_train,\n",
        "    epochs=epochs,\n",
        "    batch_size=batch_size,\n",
        "    validation_data=(x_val, y_val)\n",
        ")"
      ]
    },
    {
      "cell_type": "code",
      "execution_count": null,
      "metadata": {
        "id": "AAuGNTozEoP3"
      },
      "outputs": [],
      "source": [
        "# No. de parámetros en una capa FC:\n",
        "# No. unidades capa entrada * No. unidades capa salida + No. unidades capa salida (bias)\n",
        "\n",
        "model.summary()"
      ]
    },
    {
      "cell_type": "markdown",
      "metadata": {
        "id": "3VyGDSrVJNJh"
      },
      "source": [
        "# Evolución del algoritmo"
      ]
    },
    {
      "cell_type": "code",
      "execution_count": null,
      "metadata": {
        "id": "xe3sJAreJPjy"
      },
      "outputs": [],
      "source": [
        "# Gráfica de pérdida\n",
        "import matplotlib.pyplot as plt\n",
        "loss = history.history['loss']\n",
        "val_loss = history.history['val_loss']\n",
        "epochs = range(len(loss))\n",
        "plt.plot(epochs, loss, 'b', label='Loss entrenamiento')\n",
        "plt.plot(epochs, val_loss, 'r', label='Loss validación')\n",
        "plt.title('Loss')\n",
        "plt.legend()\n",
        "plt.show()"
      ]
    },
    {
      "cell_type": "code",
      "execution_count": null,
      "metadata": {
        "id": "336HIrVVJXTC"
      },
      "outputs": [],
      "source": [
        "# Gráfica de Accuracy\n",
        "import matplotlib.pyplot as plt\n",
        "acc = history.history['accuracy']\n",
        "val_acc = history.history['val_accuracy'] # Changed from 'val_categorical_accuracy'\n",
        "epochs = range(len(acc))\n",
        "plt.plot(epochs, acc, 'b', label='ACC entrenamiento')\n",
        "plt.plot(epochs, val_acc, 'r', label='ACC validación')\n",
        "plt.title('ACC')\n",
        "plt.legend()\n",
        "plt.show()"
      ]
    },
    {
      "cell_type": "markdown",
      "metadata": {
        "id": "vypnUcenJ_qk"
      },
      "source": [
        "# Prueba del modelo"
      ]
    },
    {
      "cell_type": "code",
      "execution_count": 30,
      "metadata": {
        "colab": {
          "base_uri": "https://localhost:8080/",
          "height": 430
        },
        "id": "PP3NKXwWKQen",
        "outputId": "dec993f8-f00a-4baf-9063-adbe63605cae"
      },
      "outputs": [
        {
          "output_type": "display_data",
          "data": {
            "text/plain": [
              "<Figure size 640x480 with 1 Axes>"
            ],
            "image/png": "[encoded data removed]"
          },
          "metadata": {}
        }
      ],
      "source": [
        "index = random.randint(0, len(x_test) -1)\n",
        "image = x_test[index]\n",
        "label = y_test[index]\n",
        "plt.imshow(image)\n",
        "plt.show()"
      ]
    },
    {
      "cell_type": "code",
      "execution_count": 31,
      "metadata": {
        "colab": {
          "base_uri": "https://localhost:8080/"
        },
        "id": "O1SfUVaxw31p",
        "outputId": "9fe77260-cc08-4889-8754-51f682938b6c"
      },
      "outputs": [
        {
          "output_type": "stream",
          "name": "stdout",
          "text": [
            "Etiqueta real: 0\n"
          ]
        }
      ],
      "source": [
        "label_index = label.argmax()  # índice de la clase\n",
        "print(f\"Etiqueta real: {label_index}\")"
      ]
    },
    {
      "cell_type": "code",
      "execution_count": 32,
      "metadata": {
        "id": "Xvtd2dVHQAZ0"
      },
      "outputs": [],
      "source": [
        "image = (image.reshape((1, 28, 28, 3))).astype('float32') / 255.0"
      ]
    },
    {
      "cell_type": "code",
      "execution_count": 33,
      "metadata": {
        "colab": {
          "base_uri": "https://localhost:8080/"
        },
        "id": "cAAbL3-AQHXt",
        "outputId": "45eebfe2-0158-4d84-f85c-c9c6e4ebdcb9"
      },
      "outputs": [
        {
          "output_type": "stream",
          "name": "stdout",
          "text": [
            "\u001b[1m1/1\u001b[0m \u001b[32m━━━━━━━━━━━━━━━━━━━━\u001b[0m\u001b[37m\u001b[0m \u001b[1m0s\u001b[0m 33ms/step\n"
          ]
        },
        {
          "output_type": "execute_result",
          "data": {
            "text/plain": [
              "array([0.86741275, 0.02818245, 0.06429946, 0.03309735, 0.00700798],\n",
              "      dtype=float32)"
            ]
          },
          "metadata": {},
          "execution_count": 33
        }
      ],
      "source": [
        "model.predict(image)[0]"
      ]
    },
    {
      "cell_type": "code",
      "execution_count": 34,
      "metadata": {
        "colab": {
          "base_uri": "https://localhost:8080/"
        },
        "id": "Q39sc8ozQVAp",
        "outputId": "8cff6c8e-7403-4815-c91a-12fc941d4888"
      },
      "outputs": [
        {
          "output_type": "stream",
          "name": "stdout",
          "text": [
            "\u001b[1m1/1\u001b[0m \u001b[32m━━━━━━━━━━━━━━━━━━━━\u001b[0m\u001b[37m\u001b[0m \u001b[1m0s\u001b[0m 33ms/step\n",
            "Prediction:  0\n"
          ]
        }
      ],
      "source": [
        "digit = np.argmax(model.predict(image)[0], axis=-1)\n",
        "print(\"Prediction: \", digit)"
      ]
    }
  ],
  "metadata": {
    "colab": {
      "provenance": []
    },
    "kernelspec": {
      "display_name": "Python 3",
      "name": "python3"
    },
    "language_info": {
      "name": "python"
    }
  },
  "nbformat": 4,
  "nbformat_minor": 0
}